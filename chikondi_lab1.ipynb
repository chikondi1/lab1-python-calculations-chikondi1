{
  "nbformat": 4,
  "nbformat_minor": 0,
  "metadata": {
    "colab": {
      "name": "chikondi_lab1",
      "provenance": [],
      "authorship_tag": "ABX9TyNSvd3MT4KKkxFSYCNIR4zo",
      "include_colab_link": true
    },
    "kernelspec": {
      "name": "python3",
      "display_name": "Python 3"
    }
  },
  "cells": [
    {
      "cell_type": "markdown",
      "metadata": {
        "id": "view-in-github",
        "colab_type": "text"
      },
      "source": [
        "<a href=\"https://colab.research.google.com/github/chikondi1/lab1-python-calculations-chikondi1/blob/master/chikondi_lab1.ipynb\" target=\"_parent\"><img src=\"https://colab.research.google.com/assets/colab-badge.svg\" alt=\"Open In Colab\"/></a>"
      ]
    },
    {
      "cell_type": "code",
      "metadata": {
        "id": "eypsbvaEMC19"
      },
      "source": [
        "'''\n",
        "Chikondi Thangata\n",
        "3 September 2020\n",
        "Python 3.8.5\n",
        "Calculations with Python. This assignment shows the amount of runoff on an area of land in Kenya. The inputs are measurements of the land, and the amount of rainfall, and the outputs are area of the plot, rainfall in inches, and water runoff.\n",
        "'''"
      ],
      "execution_count": null,
      "outputs": []
    },
    {
      "cell_type": "code",
      "metadata": {
        "id": "L8MYHna6h3xd",
        "colab": {
          "base_uri": "https://localhost:8080/"
        },
        "outputId": "ebd2eb49-4d42-4e16-d30a-337e505d62a2"
      },
      "source": [
        "#Area of the plot in square feet\n",
        "plot_length = 50\n",
        "plot_width = 20\n",
        "single_plot = plot_length*plot_width\n",
        "print(\"Area of the plot is\", single_plot, \"sq ft\")"
      ],
      "execution_count": null,
      "outputs": [
        {
          "output_type": "stream",
          "text": [
            "Area of the plot is 1000 sq ft\n"
          ],
          "name": "stdout"
        }
      ]
    },
    {
      "cell_type": "code",
      "metadata": {
        "id": "SriKlcVsjfQR",
        "colab": {
          "base_uri": "https://localhost:8080/"
        },
        "outputId": "747eba6c-1a39-4050-8f85-99cac383cded"
      },
      "source": [
        "#Area of the plot in square inches\n",
        "plot_length_inch = plot_length*12 #Multiply by 12 because there are 12inches in 1 foot (I forgot because I use metric system instead of inches) )\n",
        "plot_width_inch = plot_width*12\n",
        "\n",
        "print(plot_length_inch)\n",
        "print(plot_width_inch)\n",
        "\n",
        "#Cubic inches of rainfall, calculated using the length, width, and amount of rainfall.\n",
        "rainfall_inch = plot_width_inch*plot_length_inch*1 #Multiply by 1 as this is the amount of rainfall in inches.\n",
        "print(\"Rainfall is\", rainfall_inch,\"cubic inches\")"
      ],
      "execution_count": null,
      "outputs": [
        {
          "output_type": "stream",
          "text": [
            "600\n",
            "240\n",
            "Rainfall is 144000 cubic inches\n"
          ],
          "name": "stdout"
        }
      ]
    },
    {
      "cell_type": "code",
      "metadata": {
        "id": "k48YuCHFpNy0",
        "colab": {
          "base_uri": "https://localhost:8080/"
        },
        "outputId": "52cbd9a1-db21-424a-e98b-c65ebe80184d"
      },
      "source": [
        "#This will convert the amount in cubic inches to gallons.\n",
        "runoff_gallons = single_plot/0.004329 #This is the number of gallons in one cubic inch.\n",
        "runoff_gallons = round(runoff_gallons, 2) #I found this formula online to round the number to as many decimal points as you'd like.\n",
        "print(\"Rainfall runoff is\", runoff_gallons, \"gallons\")"
      ],
      "execution_count": null,
      "outputs": [
        {
          "output_type": "stream",
          "text": [
            "Rainfall runoff is 231000.23 gallons\n"
          ],
          "name": "stdout"
        }
      ]
    },
    {
      "cell_type": "code",
      "metadata": {
        "id": "A3C2HyjWId7b",
        "colab": {
          "base_uri": "https://localhost:8080/"
        },
        "outputId": "aa432d72-db7f-4b08-d9fd-01ccc7de8ce2"
      },
      "source": [
        "print(\"Plot length is\", plot_length_inch, \"inches.\")\n",
        "print(\"Plot width is\", plot_width_inch, \"inches.\")\n",
        "print(\"Rainfall is\", rainfall_inch, \"cubic inches.\")\n",
        "print(\"Runoff is\", runoff_gallons, \"gallons.\")"
      ],
      "execution_count": null,
      "outputs": [
        {
          "output_type": "stream",
          "text": [
            "Plot length is 600 inches.\n",
            "Plot width is 240 inches.\n",
            "Rainfall is 144000 cubic inches.\n",
            "Runoff is 231000.23 gallons.\n"
          ],
          "name": "stdout"
        }
      ]
    }
  ]
}